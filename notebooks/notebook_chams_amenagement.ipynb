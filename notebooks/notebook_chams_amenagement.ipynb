{
 "cells": [
  {
   "cell_type": "code",
   "execution_count": 1,
   "metadata": {},
   "outputs": [],
   "source": [
    "import geopandas as gpd\n",
    "import pandas as pd"
   ]
  },
  {
   "cell_type": "code",
   "execution_count": 2,
   "metadata": {},
   "outputs": [],
   "source": [
    "data_piste = gpd.read_file(\"../raw_data/amenagement cyclable/france-20231201.geojson\")\n"
   ]
  },
  {
   "cell_type": "code",
   "execution_count": 6,
   "metadata": {},
   "outputs": [
    {
     "name": "stdout",
     "output_type": "stream",
     "text": [
      "<class 'geopandas.geodataframe.GeoDataFrame'>\n",
      "RangeIndex: 301369 entries, 0 to 301368\n",
      "Data columns (total 28 columns):\n",
      " #   Column      Non-Null Count   Dtype   \n",
      "---  ------      --------------   -----   \n",
      " 0   id_local    301369 non-null  object  \n",
      " 1   id_osm      301369 non-null  object  \n",
      " 2   num_iti     37411 non-null   object  \n",
      " 3   code_com_d  301163 non-null  object  \n",
      " 4   ame_d       301357 non-null  object  \n",
      " 5   regime_d    260986 non-null  object  \n",
      " 6   sens_d      301305 non-null  object  \n",
      " 7   largeur_d   15250 non-null   float64 \n",
      " 8   local_d     91847 non-null   object  \n",
      " 9   statut_d    301369 non-null  object  \n",
      " 10  revet_d     191438 non-null  object  \n",
      " 11  code_com_g  301163 non-null  object  \n",
      " 12  ame_g       301369 non-null  object  \n",
      " 13  regime_g    208858 non-null  object  \n",
      " 14  sens_g      242748 non-null  object  \n",
      " 15  largeur_g   13994 non-null   float64 \n",
      " 16  local_g     92868 non-null   object  \n",
      " 17  statut_g    301369 non-null  object  \n",
      " 18  revet_g     191438 non-null  object  \n",
      " 19  access_ame  36031 non-null   object  \n",
      " 20  date_maj    301369 non-null  object  \n",
      " 21  trafic_vit  259247 non-null  float64 \n",
      " 22  lumiere     73523 non-null   object  \n",
      " 23  d_service   2105 non-null    object  \n",
      " 24  source      301369 non-null  object  \n",
      " 25  project_c   301369 non-null  object  \n",
      " 26  ref_geo     301369 non-null  object  \n",
      " 27  geometry    301369 non-null  geometry\n",
      "dtypes: float64(3), geometry(1), object(24)\n",
      "memory usage: 64.4+ MB\n",
      "None\n"
     ]
    }
   ],
   "source": [
    "\n",
    "# Informations sur le GeoDataFrame\n",
    "print(data_piste.info())\n"
   ]
  },
  {
   "cell_type": "code",
   "execution_count": null,
   "metadata": {},
   "outputs": [],
   "source": []
  }
 ],
 "metadata": {
  "kernelspec": {
   "display_name": "lewagon",
   "language": "python",
   "name": "python3"
  },
  "language_info": {
   "codemirror_mode": {
    "name": "ipython",
    "version": 3
   },
   "file_extension": ".py",
   "mimetype": "text/x-python",
   "name": "python",
   "nbconvert_exporter": "python",
   "pygments_lexer": "ipython3",
   "version": "3.10.6"
  }
 },
 "nbformat": 4,
 "nbformat_minor": 2
}
