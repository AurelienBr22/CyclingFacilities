{
 "cells": [
  {
   "cell_type": "markdown",
   "metadata": {},
   "source": [
    "### Indice de risque\n",
    "Pour chaque point donné, la fonction renvoie une moyenne en km. Plus cette valeur est faible, plus la distance moyenne des n points est faible, donc plus le point est dangereux."
   ]
  },
  {
   "cell_type": "code",
   "execution_count": 8,
   "metadata": {},
   "outputs": [],
   "source": [
    "import pandas as pd\n",
    "from numpy import mean\n",
    "from math import radians, cos, sin, asin, sqrt\n",
    "def dist(point1: tuple, point2: tuple) -> float:\n",
    "    \"\"\"\n",
    "    Replicating the same formula as mentioned in Wikipedia.\n",
    "\n",
    "    - point1: tuple. First element is the latitude, second is longitude.\n",
    "\n",
    "    - point2: tuple. First element is the latitude, second is longitude.\n",
    "    \"\"\"\n",
    "    # convert decimal degrees to radians \n",
    "    lat1, lon1, lat2, lon2 = map(radians, [point1[0], point1[1], point2[0], point2[1]])\n",
    "    # haversine formula \n",
    "    dlon = lon2 - lon1\n",
    "    dlat = lat2 - lat1 \n",
    "    a = sin(dlat/2)**2 + cos(lat1) * cos(lat2) * sin(dlon/2)**2\n",
    "    c = 2 * asin(sqrt(a)) \n",
    "    # Radius of earth in kilometers is 6371\n",
    "    km = 6371* c\n",
    "    return km"
   ]
  },
  {
   "cell_type": "code",
   "execution_count": 9,
   "metadata": {},
   "outputs": [
    {
     "data": {
      "text/plain": [
       "4.098099467429279"
      ]
     },
     "execution_count": 9,
     "metadata": {},
     "output_type": "execute_result"
    }
   ],
   "source": [
    "# Exemple Haversine\n",
    "\n",
    "lat1, lon1 = 48.8619573, 2.3311767\n",
    "lat2, lon2 = 48.847950, 2.382987\n",
    "\n",
    "dist((lat1, lon1), (lat2, lon2))\n"
   ]
  },
  {
   "cell_type": "code",
   "execution_count": 10,
   "metadata": {},
   "outputs": [],
   "source": [
    "def risk_index(point: tuple, coords: list, n: int) -> float:\n",
    "    \"\"\"\n",
    "    Compute the distance between one point and a list of other points.\n",
    "    Take the distance of the n closest point and return the mean (in km).\n",
    "\n",
    "    - point: tuple. First element is the latitude, second is the longitude.\n",
    "\n",
    "    - coords: list. List of coordinates. Each coordinate must be a tuple, first element is the latitude\n",
    "    and second element is the longitude.\n",
    "\n",
    "    - n: number of closest points which will be used to compute the mean.\n",
    "    \"\"\"\n",
    "    return mean(sorted([dist((point[0], point[1]), (coord[0], coord[1])) for coord in coords])[:n])"
   ]
  },
  {
   "cell_type": "code",
   "execution_count": 11,
   "metadata": {},
   "outputs": [
    {
     "data": {
      "text/plain": [
       "199.8045055652134"
      ]
     },
     "execution_count": 11,
     "metadata": {},
     "output_type": "execute_result"
    }
   ],
   "source": [
    "# Example of compute_mean_dist_of_n_closest_points\n",
    "\n",
    "lat1, lon1 = 48.8619573, 2.3311767\n",
    "coords = [(48.847950, 2.382987), (49.847950, 3.382987), (50.847950, 4.382987), (51.847950, 5.382987)]\n",
    "compute_mean_dist_of_n_closest_points((lat1, lon1), coords, 4)"
   ]
  },
  {
   "cell_type": "code",
   "execution_count": 12,
   "metadata": {},
   "outputs": [
    {
     "data": {
      "text/plain": [
       "0.12451208183704875"
      ]
     },
     "execution_count": 12,
     "metadata": {},
     "output_type": "execute_result"
    }
   ],
   "source": [
    "# Example with a df\n",
    "\n",
    "df = pd.read_csv('../clean_data/crado_velo_format.csv')[['lat', 'long']]\n",
    "\n",
    "# Creating a list of coordinates from two pandas Series.\n",
    "coords = [(el[0], el[1]) for el in zip(df['lat'].to_list(), df['long'].to_list())]\n",
    "\n",
    "lat1, lon1 = 48.8619573, 2.3311767\n",
    "compute_mean_dist_of_n_closest_points((lat1, lon1), coords, 3)"
   ]
  }
 ],
 "metadata": {
  "kernelspec": {
   "display_name": "v",
   "language": "python",
   "name": "python3"
  },
  "language_info": {
   "codemirror_mode": {
    "name": "ipython",
    "version": 3
   },
   "file_extension": ".py",
   "mimetype": "text/x-python",
   "name": "python",
   "nbconvert_exporter": "python",
   "pygments_lexer": "ipython3",
   "version": "3.10.13"
  }
 },
 "nbformat": 4,
 "nbformat_minor": 2
}
