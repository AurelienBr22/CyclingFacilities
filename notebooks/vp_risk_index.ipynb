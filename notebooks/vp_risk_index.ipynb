{
 "cells": [
  {
   "cell_type": "markdown",
   "metadata": {},
   "source": [
    "### Indice de risque\n",
    "Pour chaque point donné, la fonction renvoie une moyenne en km. Plus cette valeur est faible, plus la distance moyenne des n points est faible, donc plus le point est dangereux."
   ]
  },
  {
   "cell_type": "code",
   "execution_count": 7,
   "metadata": {},
   "outputs": [],
   "source": [
    "import pandas as pd\n",
    "from numpy import mean\n",
    "from math import radians, cos, sin, asin, sqrt\n",
    "def dist(point1: tuple, point2: tuple) -> float:\n",
    "    \"\"\"\n",
    "    Replicating the same formula as mentioned in Wikipedia.\n",
    "\n",
    "    - point1: tuple. First element is the latitude, second is longitude.\n",
    "\n",
    "    - point2: tuple. First element is the latitude, second is longitude.\n",
    "    \"\"\"\n",
    "    # convert decimal degrees to radians \n",
    "    lat1, lon1, lat2, lon2 = map(radians, [point1[0], point1[1], point2[0], point2[1]])\n",
    "    # haversine formula \n",
    "    dlon = lon2 - lon1\n",
    "    dlat = lat2 - lat1 \n",
    "    a = sin(dlat/2)**2 + cos(lat1) * cos(lat2) * sin(dlon/2)**2\n",
    "    c = 2 * asin(sqrt(a)) \n",
    "    # Radius of earth in kilometers is 6371\n",
    "    km = 6_371_000 * c\n",
    "    return km"
   ]
  },
  {
   "cell_type": "code",
   "execution_count": 8,
   "metadata": {},
   "outputs": [
    {
     "data": {
      "text/plain": [
       "4098.099467429279"
      ]
     },
     "execution_count": 8,
     "metadata": {},
     "output_type": "execute_result"
    }
   ],
   "source": [
    "# Exemple Haversine\n",
    "\n",
    "lat1, lon1 = 48.8619573, 2.3311767\n",
    "lat2, lon2 = 48.847950, 2.382987\n",
    "\n",
    "dist((lat1, lon1), (lat2, lon2))\n"
   ]
  },
  {
   "cell_type": "code",
   "execution_count": 32,
   "metadata": {},
   "outputs": [],
   "source": [
    "def returns_index_if_not_zero(seq: list):\n",
    "    for i, el in enumerate(seq):\n",
    "        if el != 0: return i\n",
    "    return i"
   ]
  },
  {
   "cell_type": "code",
   "execution_count": 90,
   "metadata": {},
   "outputs": [],
   "source": [
    "def risk_index(point: tuple, coords: list, n: int) -> float:\n",
    "    \"\"\"\n",
    "    Compute the distance between one point and a list of other points.\n",
    "    Take the distance of the n closest point and return the mean (in km).\n",
    "\n",
    "    - point: tuple. First element is the latitude, second is the longitude.\n",
    "\n",
    "    - coords: list. List of coordinates. Each coordinate must be a tuple, first element is the latitude\n",
    "    and second element is the longitude.\n",
    "\n",
    "    - n: number of closest points which will be used to compute the mean.\n",
    "    \"\"\"\n",
    "\n",
    "    all_distances = [dist((point[0], point[1]), (coord[0], coord[1])) for coord in coords]\n",
    "    all_distances_sorted = sorted(all_distances)\n",
    "    all_distances_n = all_distances_sorted[:n]\n",
    "    res = mean(all_distances_n)\n",
    "\n",
    "    if res == 0:\n",
    "        n = all_distances_sorted.count(0)\n",
    "        return mean(all_distances_sorted[:n + 1])\n",
    "\n",
    "    return res\n",
    "    #return mean(sorted([dist((point[0], point[1]), (coord[0], coord[1])) for coord in coords])[:n])"
   ]
  },
  {
   "cell_type": "code",
   "execution_count": 91,
   "metadata": {},
   "outputs": [
    {
     "data": {
      "text/plain": [
       "199804.5055652134"
      ]
     },
     "execution_count": 91,
     "metadata": {},
     "output_type": "execute_result"
    }
   ],
   "source": [
    "# Example of compute_mean_dist_of_n_closest_points\n",
    "\n",
    "lat1, lon1 = 48.8619573, 2.3311767\n",
    "coords = [(48.847950, 2.382987), (49.847950, 3.382987), (50.847950, 4.382987), (51.847950, 5.382987)]\n",
    "risk_index((lat1, lon1), coords, 4)"
   ]
  },
  {
   "cell_type": "code",
   "execution_count": 92,
   "metadata": {},
   "outputs": [
    {
     "data": {
      "text/plain": [
       "124.51208183704875"
      ]
     },
     "execution_count": 92,
     "metadata": {},
     "output_type": "execute_result"
    }
   ],
   "source": [
    "# Example with a df\n",
    "\n",
    "df = pd.read_csv('../clean_data/crado_velo_format.csv')[['lat', 'long']]\n",
    "\n",
    "# Creating a list of coordinates from two pandas Series.\n",
    "coords = [(el[0], el[1]) for el in zip(df['lat'].to_list(), df['long'].to_list())]\n",
    "\n",
    "lat1, lon1 = 48.8619573, 2.3311767\n",
    "risk_index((lat1, lon1), coords, 3)"
   ]
  },
  {
   "cell_type": "code",
   "execution_count": 93,
   "metadata": {},
   "outputs": [
    {
     "data": {
      "text/plain": [
       "0.5917294577075928"
      ]
     },
     "execution_count": 93,
     "metadata": {},
     "output_type": "execute_result"
    }
   ],
   "source": [
    "mean([0.0, 0.0, 0.0, 0.0, 0.0, 0.0, 0.0, 0.0, 0.0, 0.0, 0.0, 0.0, 0.0, 0.0, 0.0, 0.0, 0.0, 0.0, 0.0, 0.0, 0.0, 0.0, 0.0, 0.0, 0.0, 15.384965900397413])"
   ]
  },
  {
   "cell_type": "code",
   "execution_count": 94,
   "metadata": {},
   "outputs": [
    {
     "data": {
      "text/plain": [
       "0.5917294577075928"
      ]
     },
     "execution_count": 94,
     "metadata": {},
     "output_type": "execute_result"
    }
   ],
   "source": [
    "risk_index((48.862527, 2.335861), coords, 5)"
   ]
  },
  {
   "cell_type": "code",
   "execution_count": 71,
   "metadata": {},
   "outputs": [
    {
     "name": "stdout",
     "output_type": "stream",
     "text": [
      "642 ns ± 18.1 ns per loop (mean ± std. dev. of 7 runs, 1,000,000 loops each)\n"
     ]
    }
   ],
   "source": [
    "%%timeit\n",
    "returns_index_if_not_zero(zero_list)"
   ]
  },
  {
   "cell_type": "code",
   "execution_count": 72,
   "metadata": {},
   "outputs": [
    {
     "data": {
      "text/plain": [
       "25"
      ]
     },
     "execution_count": 72,
     "metadata": {},
     "output_type": "execute_result"
    }
   ],
   "source": [
    "zero_list.count(0)"
   ]
  },
  {
   "cell_type": "code",
   "execution_count": 62,
   "metadata": {},
   "outputs": [
    {
     "data": {
      "text/plain": [
       "25"
      ]
     },
     "execution_count": 62,
     "metadata": {},
     "output_type": "execute_result"
    }
   ],
   "source": [
    "len([0.0, 0.0, 0.0, 0.0, 0.0, 0.0, 0.0, 0.0, 0.0, 0.0, 0.0, 0.0, 0.0, 0.0, 0.0, 0.0, 0.0, 0.0, 0.0, 0.0, 0.0, 0.0, 0.0, 0.0, 0.0,])"
   ]
  },
  {
   "cell_type": "code",
   "execution_count": null,
   "metadata": {},
   "outputs": [],
   "source": []
  }
 ],
 "metadata": {
  "kernelspec": {
   "display_name": "v",
   "language": "python",
   "name": "python3"
  },
  "language_info": {
   "codemirror_mode": {
    "name": "ipython",
    "version": 3
   },
   "file_extension": ".py",
   "mimetype": "text/x-python",
   "name": "python",
   "nbconvert_exporter": "python",
   "pygments_lexer": "ipython3",
   "version": "3.10.13"
  }
 },
 "nbformat": 4,
 "nbformat_minor": 2
}
