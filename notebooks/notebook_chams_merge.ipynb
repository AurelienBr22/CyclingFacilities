{
 "cells": [
  {
   "cell_type": "code",
   "execution_count": 1,
   "metadata": {},
   "outputs": [],
   "source": [
    "import geopandas as gpd\n",
    "import pandas as pd\n",
    "import numpy as np"
   ]
  },
  {
   "cell_type": "code",
   "execution_count": 2,
   "metadata": {},
   "outputs": [
    {
     "name": "stderr",
     "output_type": "stream",
     "text": [
      "/var/folders/jw/qw353j7x7h970k1t74h_j5nc0000gn/T/ipykernel_13968/149342845.py:3: DtypeWarning: Columns (4,10,12,13,14,15) have mixed types. Specify dtype option on import or set low_memory=False.\n",
      "  caracteristiques_all = pd.read_csv(\"../raw_data/carac.csv\")\n"
     ]
    }
   ],
   "source": [
    "# lieux_all = pd.read_csv(\"lieux.csv\")\n",
    "# vehicules_all = pd.read_csv(\"vehi.csv\")\n",
    "caracteristiques_all = pd.read_csv(\"../raw_data/carac.csv\")"
   ]
  },
  {
   "cell_type": "code",
   "execution_count": 3,
   "metadata": {},
   "outputs": [
    {
     "data": {
      "text/plain": [
       "Num_Acc          55302\n",
       "an                   0\n",
       "mois                 0\n",
       "jour                 0\n",
       "hrmn                 0\n",
       "lum                  0\n",
       "agg                  0\n",
       "int                  0\n",
       "atm                 73\n",
       "col                 19\n",
       "com                  2\n",
       "adr             144509\n",
       "gps             696821\n",
       "lat             487068\n",
       "long            487072\n",
       "dep                  0\n",
       "Accident_Id    1121571\n",
       "dtype: int64"
      ]
     },
     "execution_count": 3,
     "metadata": {},
     "output_type": "execute_result"
    }
   ],
   "source": [
    "caracteristiques_all.isna().sum()"
   ]
  },
  {
   "cell_type": "markdown",
   "metadata": {},
   "source": [
    "# Chargement des données CSV"
   ]
  },
  {
   "cell_type": "code",
   "execution_count": 4,
   "metadata": {},
   "outputs": [
    {
     "name": "stderr",
     "output_type": "stream",
     "text": [
      "/var/folders/jw/qw353j7x7h970k1t74h_j5nc0000gn/T/ipykernel_13968/4187407229.py:4: DtypeWarning: Columns (6,8,9,10,11) have mixed types. Specify dtype option on import or set low_memory=False.\n",
      "  caracteristiques_df = pd.read_csv('../clean_data/caracteristiques_clean.csv')\n"
     ]
    }
   ],
   "source": [
    "lieux_df = pd.read_csv('../clean_data/lieux_clean.csv')\n",
    "usagers_df = pd.read_csv('../clean_data/usagers_clean.csv')\n",
    "vehicules_df = pd.read_csv('../clean_data/vehicules_clean.csv')\n",
    "caracteristiques_df = pd.read_csv('../clean_data/caracteristiques_clean.csv')"
   ]
  },
  {
   "cell_type": "code",
   "execution_count": 5,
   "metadata": {},
   "outputs": [
    {
     "data": {
      "text/html": [
       "<div>\n",
       "<style scoped>\n",
       "    .dataframe tbody tr th:only-of-type {\n",
       "        vertical-align: middle;\n",
       "    }\n",
       "\n",
       "    .dataframe tbody tr th {\n",
       "        vertical-align: top;\n",
       "    }\n",
       "\n",
       "    .dataframe thead th {\n",
       "        text-align: right;\n",
       "    }\n",
       "</style>\n",
       "<table border=\"1\" class=\"dataframe\">\n",
       "  <thead>\n",
       "    <tr style=\"text-align: right;\">\n",
       "      <th></th>\n",
       "      <th>Num_Acc</th>\n",
       "      <th>lum</th>\n",
       "      <th>agg</th>\n",
       "      <th>int</th>\n",
       "      <th>atm</th>\n",
       "      <th>col</th>\n",
       "      <th>com</th>\n",
       "      <th>adr</th>\n",
       "      <th>lat</th>\n",
       "      <th>long</th>\n",
       "      <th>dep</th>\n",
       "      <th>date</th>\n",
       "    </tr>\n",
       "  </thead>\n",
       "  <tbody>\n",
       "    <tr>\n",
       "      <th>116623</th>\n",
       "      <td>NaN</td>\n",
       "      <td>1</td>\n",
       "      <td>2</td>\n",
       "      <td>3</td>\n",
       "      <td>1.0</td>\n",
       "      <td>3.0</td>\n",
       "      <td>26198</td>\n",
       "      <td>TEIL(vieille route du)</td>\n",
       "      <td>44,5594200000</td>\n",
       "      <td>4,7257200000</td>\n",
       "      <td>26</td>\n",
       "      <td>NaN</td>\n",
       "    </tr>\n",
       "    <tr>\n",
       "      <th>116624</th>\n",
       "      <td>NaN</td>\n",
       "      <td>1</td>\n",
       "      <td>2</td>\n",
       "      <td>3</td>\n",
       "      <td>1.0</td>\n",
       "      <td>3.0</td>\n",
       "      <td>25204</td>\n",
       "      <td>Miranda</td>\n",
       "      <td>46,9258100000</td>\n",
       "      <td>6,3462000000</td>\n",
       "      <td>25</td>\n",
       "      <td>NaN</td>\n",
       "    </tr>\n",
       "    <tr>\n",
       "      <th>116625</th>\n",
       "      <td>NaN</td>\n",
       "      <td>1</td>\n",
       "      <td>2</td>\n",
       "      <td>6</td>\n",
       "      <td>1.0</td>\n",
       "      <td>2.0</td>\n",
       "      <td>22360</td>\n",
       "      <td>ROND POINT DE BREZILLET</td>\n",
       "      <td>48,4931620000</td>\n",
       "      <td>-2,7604390000</td>\n",
       "      <td>22</td>\n",
       "      <td>NaN</td>\n",
       "    </tr>\n",
       "    <tr>\n",
       "      <th>116626</th>\n",
       "      <td>NaN</td>\n",
       "      <td>1</td>\n",
       "      <td>2</td>\n",
       "      <td>3</td>\n",
       "      <td>8.0</td>\n",
       "      <td>6.0</td>\n",
       "      <td>16102</td>\n",
       "      <td>LOHMEYER (RUE)</td>\n",
       "      <td>45,6926520000</td>\n",
       "      <td>-0,3262900000</td>\n",
       "      <td>16</td>\n",
       "      <td>NaN</td>\n",
       "    </tr>\n",
       "    <tr>\n",
       "      <th>116627</th>\n",
       "      <td>NaN</td>\n",
       "      <td>1</td>\n",
       "      <td>1</td>\n",
       "      <td>1</td>\n",
       "      <td>1.0</td>\n",
       "      <td>2.0</td>\n",
       "      <td>13103</td>\n",
       "      <td>ROUTE DE JEAN MOULIN-RN 538</td>\n",
       "      <td>43,6755790366</td>\n",
       "      <td>5,0927031775</td>\n",
       "      <td>13</td>\n",
       "      <td>NaN</td>\n",
       "    </tr>\n",
       "    <tr>\n",
       "      <th>...</th>\n",
       "      <td>...</td>\n",
       "      <td>...</td>\n",
       "      <td>...</td>\n",
       "      <td>...</td>\n",
       "      <td>...</td>\n",
       "      <td>...</td>\n",
       "      <td>...</td>\n",
       "      <td>...</td>\n",
       "      <td>...</td>\n",
       "      <td>...</td>\n",
       "      <td>...</td>\n",
       "      <td>...</td>\n",
       "    </tr>\n",
       "    <tr>\n",
       "      <th>171920</th>\n",
       "      <td>NaN</td>\n",
       "      <td>3</td>\n",
       "      <td>1</td>\n",
       "      <td>1</td>\n",
       "      <td>1.0</td>\n",
       "      <td>6.0</td>\n",
       "      <td>2B293</td>\n",
       "      <td>D71</td>\n",
       "      <td>42,3101650000</td>\n",
       "      <td>9,4785830000</td>\n",
       "      <td>2B</td>\n",
       "      <td>NaN</td>\n",
       "    </tr>\n",
       "    <tr>\n",
       "      <th>171921</th>\n",
       "      <td>NaN</td>\n",
       "      <td>3</td>\n",
       "      <td>1</td>\n",
       "      <td>1</td>\n",
       "      <td>1.0</td>\n",
       "      <td>6.0</td>\n",
       "      <td>84074</td>\n",
       "      <td>D973</td>\n",
       "      <td>43,7531640000</td>\n",
       "      <td>5,2244760000</td>\n",
       "      <td>84</td>\n",
       "      <td>NaN</td>\n",
       "    </tr>\n",
       "    <tr>\n",
       "      <th>171922</th>\n",
       "      <td>NaN</td>\n",
       "      <td>3</td>\n",
       "      <td>1</td>\n",
       "      <td>1</td>\n",
       "      <td>9.0</td>\n",
       "      <td>6.0</td>\n",
       "      <td>74001</td>\n",
       "      <td>D22</td>\n",
       "      <td>46,2825320000</td>\n",
       "      <td>6,7328060000</td>\n",
       "      <td>74</td>\n",
       "      <td>NaN</td>\n",
       "    </tr>\n",
       "    <tr>\n",
       "      <th>171923</th>\n",
       "      <td>NaN</td>\n",
       "      <td>1</td>\n",
       "      <td>1</td>\n",
       "      <td>3</td>\n",
       "      <td>1.0</td>\n",
       "      <td>3.0</td>\n",
       "      <td>81099</td>\n",
       "      <td>Chemin Toulze</td>\n",
       "      <td>43,9272650000</td>\n",
       "      <td>1,9156370000</td>\n",
       "      <td>81</td>\n",
       "      <td>NaN</td>\n",
       "    </tr>\n",
       "    <tr>\n",
       "      <th>171924</th>\n",
       "      <td>NaN</td>\n",
       "      <td>1</td>\n",
       "      <td>2</td>\n",
       "      <td>1</td>\n",
       "      <td>1.0</td>\n",
       "      <td>2.0</td>\n",
       "      <td>41018</td>\n",
       "      <td>RD956 - Pont Charles De Gaulle</td>\n",
       "      <td>47,5944040000</td>\n",
       "      <td>1,3533290000</td>\n",
       "      <td>41</td>\n",
       "      <td>NaN</td>\n",
       "    </tr>\n",
       "  </tbody>\n",
       "</table>\n",
       "<p>55302 rows × 12 columns</p>\n",
       "</div>"
      ],
      "text/plain": [
       "        Num_Acc  lum  agg  int  atm  col    com  \\\n",
       "116623      NaN    1    2    3  1.0  3.0  26198   \n",
       "116624      NaN    1    2    3  1.0  3.0  25204   \n",
       "116625      NaN    1    2    6  1.0  2.0  22360   \n",
       "116626      NaN    1    2    3  8.0  6.0  16102   \n",
       "116627      NaN    1    1    1  1.0  2.0  13103   \n",
       "...         ...  ...  ...  ...  ...  ...    ...   \n",
       "171920      NaN    3    1    1  1.0  6.0  2B293   \n",
       "171921      NaN    3    1    1  1.0  6.0  84074   \n",
       "171922      NaN    3    1    1  9.0  6.0  74001   \n",
       "171923      NaN    1    1    3  1.0  3.0  81099   \n",
       "171924      NaN    1    2    1  1.0  2.0  41018   \n",
       "\n",
       "                                   adr            lat            long dep date  \n",
       "116623          TEIL(vieille route du)  44,5594200000    4,7257200000  26  NaN  \n",
       "116624                         Miranda  46,9258100000    6,3462000000  25  NaN  \n",
       "116625         ROND POINT DE BREZILLET  48,4931620000   -2,7604390000  22  NaN  \n",
       "116626                  LOHMEYER (RUE)  45,6926520000   -0,3262900000  16  NaN  \n",
       "116627     ROUTE DE JEAN MOULIN-RN 538  43,6755790366    5,0927031775  13  NaN  \n",
       "...                                ...            ...             ...  ..  ...  \n",
       "171920                             D71  42,3101650000    9,4785830000  2B  NaN  \n",
       "171921                            D973  43,7531640000    5,2244760000  84  NaN  \n",
       "171922                             D22  46,2825320000    6,7328060000  74  NaN  \n",
       "171923                   Chemin Toulze  43,9272650000    1,9156370000  81  NaN  \n",
       "171924  RD956 - Pont Charles De Gaulle  47,5944040000    1,3533290000  41  NaN  \n",
       "\n",
       "[55302 rows x 12 columns]"
      ]
     },
     "execution_count": 5,
     "metadata": {},
     "output_type": "execute_result"
    }
   ],
   "source": [
    "caracteristiques_df.isna().sum()\n",
    "\n",
    "caracteristiques_df[caracteristiques_df['Num_Acc'].isna()]"
   ]
  },
  {
   "cell_type": "code",
   "execution_count": 6,
   "metadata": {},
   "outputs": [],
   "source": [
    "# fonction rolliwn window ? applique une fonction sur une partie précise\n"
   ]
  },
  {
   "cell_type": "markdown",
   "metadata": {},
   "source": [
    "# Merge de la données\n"
   ]
  },
  {
   "cell_type": "code",
   "execution_count": 7,
   "metadata": {},
   "outputs": [],
   "source": [
    "# Création d'une colonne uniques pour merger les df usagers et véhicules\n",
    "\n",
    "usagers_df['aug'] = usagers_df['Num_Acc'].astype(str) + usagers_df['num_veh'].astype(str)\n",
    "vehicules_df['aug'] = vehicules_df['Num_Acc'].astype(str) + vehicules_df['num_veh'].astype(str)\n"
   ]
  },
  {
   "cell_type": "code",
   "execution_count": 8,
   "metadata": {},
   "outputs": [],
   "source": [
    "vehicules_df.shape\n",
    "vehicules_df = vehicules_df[vehicules_df['catv']==1]"
   ]
  },
  {
   "cell_type": "code",
   "execution_count": 9,
   "metadata": {},
   "outputs": [],
   "source": [
    "# On drop les duplicates lorsqu'il y a une plusieurs usagers dans un même véhicules et pour le même accident\n",
    "# On crée une colonne pour y ajouter le nombre d'usagers par véhicules\n",
    "\n",
    "\n",
    "usagers_df['dup_count'] = usagers_df.groupby('aug')['aug'].transform('count')\n",
    "usagers_df =usagers_df.drop_duplicates(subset=['aug'], keep='first')"
   ]
  },
  {
   "cell_type": "code",
   "execution_count": 10,
   "metadata": {},
   "outputs": [
    {
     "name": "stdout",
     "output_type": "stream",
     "text": [
      "<class 'pandas.core.frame.DataFrame'>\n",
      "<class 'pandas.core.frame.DataFrame'>\n"
     ]
    }
   ],
   "source": [
    "print(type(vehicules_df))\n",
    "print(type(usagers_df))"
   ]
  },
  {
   "cell_type": "code",
   "execution_count": 11,
   "metadata": {},
   "outputs": [],
   "source": [
    "# On merge véhicules et usagers puis on ne garde que les accidents impliquant un vélo\n",
    "# On clean et on drop les doublons\n",
    "\n",
    "vehi_usa = pd.merge(vehicules_df, usagers_df, on='aug', how='inner')\n",
    "vehi_usa = vehi_usa.drop(columns=['num_veh_x', 'num_veh_y', 'Num_Acc_y'])\n",
    "vehi_usa = vehi_usa.rename(columns={'Num_Acc_x': 'Num_Acc'})\n"
   ]
  },
  {
   "cell_type": "code",
   "execution_count": 12,
   "metadata": {},
   "outputs": [
    {
     "data": {
      "text/plain": [
       "1    83223\n",
       "2     5132\n",
       "3      156\n",
       "4        5\n",
       "6        3\n",
       "5        2\n",
       "Name: dup_count, dtype: int64"
      ]
     },
     "execution_count": 12,
     "metadata": {},
     "output_type": "execute_result"
    }
   ],
   "source": [
    "vehi_usa['dup_count'].value_counts()"
   ]
  },
  {
   "cell_type": "markdown",
   "metadata": {},
   "source": []
  },
  {
   "cell_type": "code",
   "execution_count": 13,
   "metadata": {},
   "outputs": [
    {
     "name": "stdout",
     "output_type": "stream",
     "text": [
      "True\n",
      "True\n"
     ]
    }
   ],
   "source": [
    "print(vehi_usa['Num_Acc'].duplicated().any())\n",
    "print(caracteristiques_df['Num_Acc'].duplicated().any())\n"
   ]
  },
  {
   "cell_type": "code",
   "execution_count": 14,
   "metadata": {},
   "outputs": [
    {
     "name": "stdout",
     "output_type": "stream",
     "text": [
      "<class 'pandas.core.frame.DataFrame'>\n",
      "Int64Index: 5148 entries, 12 to 88515\n",
      "Data columns (total 16 columns):\n",
      " #   Column     Non-Null Count  Dtype  \n",
      "---  ------     --------------  -----  \n",
      " 0   Num_Acc    5148 non-null   int64  \n",
      " 1   catv       5148 non-null   int64  \n",
      " 2   obs        5148 non-null   float64\n",
      " 3   obsm       5148 non-null   float64\n",
      " 4   choc       5148 non-null   float64\n",
      " 5   manv       5148 non-null   float64\n",
      " 6   aug        5148 non-null   object \n",
      " 7   grav       5148 non-null   int64  \n",
      " 8   sexe       5148 non-null   int64  \n",
      " 9   trajet     5148 non-null   int64  \n",
      " 10  secu       5148 non-null   float64\n",
      " 11  locp       5148 non-null   float64\n",
      " 12  actp       5148 non-null   int64  \n",
      " 13  etatp      5148 non-null   float64\n",
      " 14  an_nais    5148 non-null   float64\n",
      " 15  dup_count  5148 non-null   int64  \n",
      "dtypes: float64(8), int64(7), object(1)\n",
      "memory usage: 683.7+ KB\n"
     ]
    }
   ],
   "source": [
    "duplicates_velo = vehi_usa[vehi_usa['Num_Acc'].duplicated(keep=False)]\n",
    "duplicates_velo.info()"
   ]
  },
  {
   "cell_type": "code",
   "execution_count": null,
   "metadata": {},
   "outputs": [],
   "source": []
  },
  {
   "cell_type": "code",
   "execution_count": 15,
   "metadata": {},
   "outputs": [],
   "source": [
    "# On merge les df caractéristiques et lieux\n",
    "\n",
    "velo_df = pd.merge(vehi_usa, lieux_df, on='Num_Acc', how='left')\n",
    "velo_df = pd.merge(velo_df, caracteristiques_df, on='Num_Acc', how='left')\n"
   ]
  },
  {
   "cell_type": "code",
   "execution_count": 16,
   "metadata": {},
   "outputs": [
    {
     "name": "stdout",
     "output_type": "stream",
     "text": [
      "<class 'pandas.core.frame.DataFrame'>\n",
      "Int64Index: 88521 entries, 0 to 88520\n",
      "Data columns (total 36 columns):\n",
      " #   Column     Non-Null Count  Dtype  \n",
      "---  ------     --------------  -----  \n",
      " 0   Num_Acc    88521 non-null  int64  \n",
      " 1   catv       88521 non-null  int64  \n",
      " 2   obs        88521 non-null  float64\n",
      " 3   obsm       88521 non-null  float64\n",
      " 4   choc       88521 non-null  float64\n",
      " 5   manv       88521 non-null  float64\n",
      " 6   aug        88521 non-null  object \n",
      " 7   grav       88521 non-null  int64  \n",
      " 8   sexe       88521 non-null  int64  \n",
      " 9   trajet     88521 non-null  int64  \n",
      " 10  secu       88521 non-null  float64\n",
      " 11  locp       88521 non-null  float64\n",
      " 12  actp       88521 non-null  int64  \n",
      " 13  etatp      88521 non-null  float64\n",
      " 14  an_nais    88521 non-null  float64\n",
      " 15  dup_count  88521 non-null  int64  \n",
      " 16  catr       88521 non-null  float64\n",
      " 17  circ       88521 non-null  float64\n",
      " 18  nbv        88521 non-null  float64\n",
      " 19  vosp       88521 non-null  float64\n",
      " 20  prof       88521 non-null  float64\n",
      " 21  plan       88521 non-null  float64\n",
      " 22  surf       88521 non-null  float64\n",
      " 23  infra      88521 non-null  float64\n",
      " 24  situ       88521 non-null  float64\n",
      " 25  lum        83233 non-null  float64\n",
      " 26  agg        83233 non-null  float64\n",
      " 27  int        83233 non-null  float64\n",
      " 28  atm        83228 non-null  float64\n",
      " 29  col        83230 non-null  float64\n",
      " 30  com        83233 non-null  object \n",
      " 31  adr        76982 non-null  object \n",
      " 32  lat        47920 non-null  object \n",
      " 33  long       47920 non-null  object \n",
      " 34  dep        83233 non-null  object \n",
      " 35  date       67690 non-null  object \n",
      "dtypes: float64(22), int64(7), object(7)\n",
      "memory usage: 25.0+ MB\n"
     ]
    }
   ],
   "source": [
    "velo_df.info()"
   ]
  },
  {
   "cell_type": "code",
   "execution_count": 17,
   "metadata": {},
   "outputs": [],
   "source": [
    "# On remplace les valeurs manquantes par la valeur la plus fréquente\n",
    "velo_df['lum'].fillna(velo_df['lum'].mode()[0], inplace=True)\n",
    "velo_df['agg'].fillna(velo_df['agg'].mode()[0], inplace=True)\n",
    "velo_df['atm'].fillna(velo_df['atm'].mode()[0], inplace=True)\n",
    "velo_df['atm'] = velo_df['atm'].replace({ -1: 1, 9: 1})"
   ]
  },
  {
   "cell_type": "code",
   "execution_count": 18,
   "metadata": {},
   "outputs": [],
   "source": [
    "# Obtenez la distribution des valeurs\n",
    "distribution = velo_df['int'].value_counts(normalize=True)\n",
    "# Obtenez les valeurs manquantes\n",
    "missing = velo_df['int'].isnull()\n",
    "# Remplissez les valeurs manquantes en fonction de la distribution\n",
    "velo_df.loc[missing, 'int'] = np.random.choice(distribution.index, size=len(velo_df[missing]), p=distribution.values)"
   ]
  },
  {
   "cell_type": "code",
   "execution_count": 19,
   "metadata": {},
   "outputs": [],
   "source": [
    "# Obtenez la distribution des valeurs\n",
    "distribution = velo_df['col'].value_counts(normalize=True)\n",
    "# Obtenez les valeurs manquantes\n",
    "missing = velo_df['col'].isnull()\n",
    "# Remplissez les valeurs manquantes en fonction de la distribution\n",
    "velo_df.loc[missing, 'col'] = np.random.choice(distribution.index, size=len(velo_df[missing]), p=distribution.values)\n",
    "# Je remplace le -1 par 1\n",
    "velo_df['col'] = velo_df['col'].replace({ -1: 3})"
   ]
  },
  {
   "cell_type": "code",
   "execution_count": 20,
   "metadata": {},
   "outputs": [
    {
     "name": "stdout",
     "output_type": "stream",
     "text": [
      "<class 'pandas.core.frame.DataFrame'>\n",
      "Int64Index: 88521 entries, 0 to 88520\n",
      "Data columns (total 36 columns):\n",
      " #   Column     Non-Null Count  Dtype  \n",
      "---  ------     --------------  -----  \n",
      " 0   Num_Acc    88521 non-null  int64  \n",
      " 1   catv       88521 non-null  int64  \n",
      " 2   obs        88521 non-null  float64\n",
      " 3   obsm       88521 non-null  float64\n",
      " 4   choc       88521 non-null  float64\n",
      " 5   manv       88521 non-null  float64\n",
      " 6   aug        88521 non-null  object \n",
      " 7   grav       88521 non-null  int64  \n",
      " 8   sexe       88521 non-null  int64  \n",
      " 9   trajet     88521 non-null  int64  \n",
      " 10  secu       88521 non-null  float64\n",
      " 11  locp       88521 non-null  float64\n",
      " 12  actp       88521 non-null  int64  \n",
      " 13  etatp      88521 non-null  float64\n",
      " 14  an_nais    88521 non-null  float64\n",
      " 15  dup_count  88521 non-null  int64  \n",
      " 16  catr       88521 non-null  float64\n",
      " 17  circ       88521 non-null  float64\n",
      " 18  nbv        88521 non-null  float64\n",
      " 19  vosp       88521 non-null  float64\n",
      " 20  prof       88521 non-null  float64\n",
      " 21  plan       88521 non-null  float64\n",
      " 22  surf       88521 non-null  float64\n",
      " 23  infra      88521 non-null  float64\n",
      " 24  situ       88521 non-null  float64\n",
      " 25  lum        88521 non-null  float64\n",
      " 26  agg        88521 non-null  float64\n",
      " 27  int        88521 non-null  float64\n",
      " 28  atm        88521 non-null  float64\n",
      " 29  col        88521 non-null  float64\n",
      " 30  com        83233 non-null  object \n",
      " 31  adr        76982 non-null  object \n",
      " 32  lat        47920 non-null  object \n",
      " 33  long       47920 non-null  object \n",
      " 34  dep        83233 non-null  object \n",
      " 35  date       67690 non-null  object \n",
      "dtypes: float64(22), int64(7), object(7)\n",
      "memory usage: 25.0+ MB\n"
     ]
    }
   ],
   "source": [
    "velo_df.info()"
   ]
  },
  {
   "cell_type": "code",
   "execution_count": 21,
   "metadata": {},
   "outputs": [],
   "source": [
    "velo_df = velo_df[~(velo_df.adr.isna() & velo_df.lat.isna() & velo_df.long.isna() & velo_df.com.isna() & velo_df.dep.isna())]"
   ]
  },
  {
   "cell_type": "code",
   "execution_count": 22,
   "metadata": {},
   "outputs": [
    {
     "name": "stdout",
     "output_type": "stream",
     "text": [
      "<class 'pandas.core.frame.DataFrame'>\n",
      "Int64Index: 83233 entries, 0 to 88520\n",
      "Data columns (total 36 columns):\n",
      " #   Column     Non-Null Count  Dtype  \n",
      "---  ------     --------------  -----  \n",
      " 0   Num_Acc    83233 non-null  int64  \n",
      " 1   catv       83233 non-null  int64  \n",
      " 2   obs        83233 non-null  float64\n",
      " 3   obsm       83233 non-null  float64\n",
      " 4   choc       83233 non-null  float64\n",
      " 5   manv       83233 non-null  float64\n",
      " 6   aug        83233 non-null  object \n",
      " 7   grav       83233 non-null  int64  \n",
      " 8   sexe       83233 non-null  int64  \n",
      " 9   trajet     83233 non-null  int64  \n",
      " 10  secu       83233 non-null  float64\n",
      " 11  locp       83233 non-null  float64\n",
      " 12  actp       83233 non-null  int64  \n",
      " 13  etatp      83233 non-null  float64\n",
      " 14  an_nais    83233 non-null  float64\n",
      " 15  dup_count  83233 non-null  int64  \n",
      " 16  catr       83233 non-null  float64\n",
      " 17  circ       83233 non-null  float64\n",
      " 18  nbv        83233 non-null  float64\n",
      " 19  vosp       83233 non-null  float64\n",
      " 20  prof       83233 non-null  float64\n",
      " 21  plan       83233 non-null  float64\n",
      " 22  surf       83233 non-null  float64\n",
      " 23  infra      83233 non-null  float64\n",
      " 24  situ       83233 non-null  float64\n",
      " 25  lum        83233 non-null  float64\n",
      " 26  agg        83233 non-null  float64\n",
      " 27  int        83233 non-null  float64\n",
      " 28  atm        83233 non-null  float64\n",
      " 29  col        83233 non-null  float64\n",
      " 30  com        83233 non-null  object \n",
      " 31  adr        76982 non-null  object \n",
      " 32  lat        47920 non-null  object \n",
      " 33  long       47920 non-null  object \n",
      " 34  dep        83233 non-null  object \n",
      " 35  date       67690 non-null  object \n",
      "dtypes: float64(22), int64(7), object(7)\n",
      "memory usage: 23.5+ MB\n"
     ]
    }
   ],
   "source": [
    "velo_df.info()"
   ]
  },
  {
   "cell_type": "code",
   "execution_count": 23,
   "metadata": {},
   "outputs": [],
   "source": [
    "# Réinitialisez l'index de votre DataFrame\n",
    "velo_df = velo_df.reset_index(drop=True)\n",
    "\n",
    "# Obtenez la distribution des valeurs\n",
    "distribution = velo_df['date'].value_counts(normalize=True)\n",
    "\n",
    "# Obtenez les valeurs manquantes\n",
    "missing = velo_df['date'].isnull()\n",
    "\n",
    "# Remplissez les valeurs manquantes en fonction de la distribution\n",
    "velo_df.loc[missing, 'date'] = np.random.choice(distribution.index, size=len(velo_df[missing]), p=distribution.values)"
   ]
  },
  {
   "cell_type": "code",
   "execution_count": 24,
   "metadata": {},
   "outputs": [
    {
     "name": "stdout",
     "output_type": "stream",
     "text": [
      "<class 'pandas.core.frame.DataFrame'>\n",
      "RangeIndex: 83233 entries, 0 to 83232\n",
      "Data columns (total 36 columns):\n",
      " #   Column     Non-Null Count  Dtype  \n",
      "---  ------     --------------  -----  \n",
      " 0   Num_Acc    83233 non-null  int64  \n",
      " 1   catv       83233 non-null  int64  \n",
      " 2   obs        83233 non-null  float64\n",
      " 3   obsm       83233 non-null  float64\n",
      " 4   choc       83233 non-null  float64\n",
      " 5   manv       83233 non-null  float64\n",
      " 6   aug        83233 non-null  object \n",
      " 7   grav       83233 non-null  int64  \n",
      " 8   sexe       83233 non-null  int64  \n",
      " 9   trajet     83233 non-null  int64  \n",
      " 10  secu       83233 non-null  float64\n",
      " 11  locp       83233 non-null  float64\n",
      " 12  actp       83233 non-null  int64  \n",
      " 13  etatp      83233 non-null  float64\n",
      " 14  an_nais    83233 non-null  float64\n",
      " 15  dup_count  83233 non-null  int64  \n",
      " 16  catr       83233 non-null  float64\n",
      " 17  circ       83233 non-null  float64\n",
      " 18  nbv        83233 non-null  float64\n",
      " 19  vosp       83233 non-null  float64\n",
      " 20  prof       83233 non-null  float64\n",
      " 21  plan       83233 non-null  float64\n",
      " 22  surf       83233 non-null  float64\n",
      " 23  infra      83233 non-null  float64\n",
      " 24  situ       83233 non-null  float64\n",
      " 25  lum        83233 non-null  float64\n",
      " 26  agg        83233 non-null  float64\n",
      " 27  int        83233 non-null  float64\n",
      " 28  atm        83233 non-null  float64\n",
      " 29  col        83233 non-null  float64\n",
      " 30  com        83233 non-null  object \n",
      " 31  adr        76982 non-null  object \n",
      " 32  lat        47920 non-null  object \n",
      " 33  long       47920 non-null  object \n",
      " 34  dep        83233 non-null  object \n",
      " 35  date       83233 non-null  object \n",
      "dtypes: float64(22), int64(7), object(7)\n",
      "memory usage: 22.9+ MB\n"
     ]
    }
   ],
   "source": [
    "velo_df.info()"
   ]
  },
  {
   "cell_type": "code",
   "execution_count": 25,
   "metadata": {},
   "outputs": [],
   "source": [
    "velo_df.to_csv('../clean_data/velo_df.csv', index=False)"
   ]
  },
  {
   "cell_type": "code",
   "execution_count": null,
   "metadata": {},
   "outputs": [],
   "source": []
  }
 ],
 "metadata": {
  "kernelspec": {
   "display_name": "lewagon",
   "language": "python",
   "name": "python3"
  },
  "language_info": {
   "codemirror_mode": {
    "name": "ipython",
    "version": 3
   },
   "file_extension": ".py",
   "mimetype": "text/x-python",
   "name": "python",
   "nbconvert_exporter": "python",
   "pygments_lexer": "ipython3",
   "version": "3.10.6"
  }
 },
 "nbformat": 4,
 "nbformat_minor": 2
}
