{
 "cells": [
  {
   "cell_type": "code",
   "execution_count": 8,
   "metadata": {},
   "outputs": [],
   "source": [
    "import pandas as pd\n",
    "import geopandas as gpd"
   ]
  },
  {
   "cell_type": "markdown",
   "metadata": {},
   "source": [
    "Génération du df_accident"
   ]
  },
  {
   "cell_type": "code",
   "execution_count": 19,
   "metadata": {},
   "outputs": [
    {
     "name": "stderr",
     "output_type": "stream",
     "text": [
      "/var/folders/jw/qw353j7x7h970k1t74h_j5nc0000gn/T/ipykernel_11495/3803997784.py:2: DtypeWarning: Columns (8,9,20,21,30) have mixed types. Specify dtype option on import or set low_memory=False.\n",
      "  data_accident = pd.read_csv(file, sep=\",\")\n"
     ]
    }
   ],
   "source": [
    "file =(\"../raw_data/accident de velo/accidentsVelo.csv\")\n",
    "data_accident = pd.read_csv(file, sep=\",\")"
   ]
  },
  {
   "cell_type": "code",
   "execution_count": 5,
   "metadata": {},
   "outputs": [
    {
     "data": {
      "text/html": [
       "<div>\n",
       "<style scoped>\n",
       "    .dataframe tbody tr th:only-of-type {\n",
       "        vertical-align: middle;\n",
       "    }\n",
       "\n",
       "    .dataframe tbody tr th {\n",
       "        vertical-align: top;\n",
       "    }\n",
       "\n",
       "    .dataframe thead th {\n",
       "        text-align: right;\n",
       "    }\n",
       "</style>\n",
       "<table border=\"1\" class=\"dataframe\">\n",
       "  <thead>\n",
       "    <tr style=\"text-align: right;\">\n",
       "      <th></th>\n",
       "      <th>Num_Acc</th>\n",
       "      <th>date</th>\n",
       "      <th>an</th>\n",
       "      <th>mois</th>\n",
       "      <th>jour</th>\n",
       "      <th>hrmn</th>\n",
       "      <th>dep</th>\n",
       "      <th>com</th>\n",
       "      <th>lat</th>\n",
       "      <th>long</th>\n",
       "      <th>...</th>\n",
       "      <th>secuexist</th>\n",
       "      <th>equipement</th>\n",
       "      <th>obs</th>\n",
       "      <th>obsm</th>\n",
       "      <th>choc</th>\n",
       "      <th>manv</th>\n",
       "      <th>vehiculeid</th>\n",
       "      <th>typevehicules</th>\n",
       "      <th>manoeuvehicules</th>\n",
       "      <th>numVehicules</th>\n",
       "    </tr>\n",
       "  </thead>\n",
       "  <tbody>\n",
       "    <tr>\n",
       "      <th>0</th>\n",
       "      <td>200500000030</td>\n",
       "      <td>2005-01-13</td>\n",
       "      <td>2005</td>\n",
       "      <td>janvier</td>\n",
       "      <td>jeudi</td>\n",
       "      <td>19:45</td>\n",
       "      <td>62</td>\n",
       "      <td>62331</td>\n",
       "      <td>50.3</td>\n",
       "      <td>2.84</td>\n",
       "      <td>...</td>\n",
       "      <td>0</td>\n",
       "      <td>0</td>\n",
       "      <td>0.0</td>\n",
       "      <td>2.0</td>\n",
       "      <td>8.0</td>\n",
       "      <td>11.0</td>\n",
       "      <td>200500000030B02</td>\n",
       "      <td>18</td>\n",
       "      <td>17</td>\n",
       "      <td>1.0</td>\n",
       "    </tr>\n",
       "    <tr>\n",
       "      <th>1</th>\n",
       "      <td>200500000034</td>\n",
       "      <td>2005-01-19</td>\n",
       "      <td>2005</td>\n",
       "      <td>janvier</td>\n",
       "      <td>mercredi</td>\n",
       "      <td>10:45</td>\n",
       "      <td>62</td>\n",
       "      <td>62022</td>\n",
       "      <td>0.0</td>\n",
       "      <td>0.0</td>\n",
       "      <td>...</td>\n",
       "      <td>0</td>\n",
       "      <td>0</td>\n",
       "      <td>0.0</td>\n",
       "      <td>2.0</td>\n",
       "      <td>1.0</td>\n",
       "      <td>1.0</td>\n",
       "      <td>200500000034B02</td>\n",
       "      <td>10</td>\n",
       "      <td>15</td>\n",
       "      <td>1.0</td>\n",
       "    </tr>\n",
       "    <tr>\n",
       "      <th>2</th>\n",
       "      <td>200500000078</td>\n",
       "      <td>2005-01-26</td>\n",
       "      <td>2005</td>\n",
       "      <td>janvier</td>\n",
       "      <td>mercredi</td>\n",
       "      <td>13:15</td>\n",
       "      <td>02</td>\n",
       "      <td>02173</td>\n",
       "      <td>0.0</td>\n",
       "      <td>0.0</td>\n",
       "      <td>...</td>\n",
       "      <td>1</td>\n",
       "      <td>2</td>\n",
       "      <td>0.0</td>\n",
       "      <td>2.0</td>\n",
       "      <td>1.0</td>\n",
       "      <td>1.0</td>\n",
       "      <td>200500000078B02</td>\n",
       "      <td>7</td>\n",
       "      <td>15</td>\n",
       "      <td>1.0</td>\n",
       "    </tr>\n",
       "    <tr>\n",
       "      <th>3</th>\n",
       "      <td>200500000093</td>\n",
       "      <td>2005-01-03</td>\n",
       "      <td>2005</td>\n",
       "      <td>janvier</td>\n",
       "      <td>lundi</td>\n",
       "      <td>13:30</td>\n",
       "      <td>02</td>\n",
       "      <td>02810</td>\n",
       "      <td>49.255</td>\n",
       "      <td>3.094</td>\n",
       "      <td>...</td>\n",
       "      <td>0</td>\n",
       "      <td>0</td>\n",
       "      <td>0.0</td>\n",
       "      <td>2.0</td>\n",
       "      <td>3.0</td>\n",
       "      <td>21.0</td>\n",
       "      <td>200500000093B02</td>\n",
       "      <td>7</td>\n",
       "      <td>21</td>\n",
       "      <td>1.0</td>\n",
       "    </tr>\n",
       "    <tr>\n",
       "      <th>4</th>\n",
       "      <td>200500000170</td>\n",
       "      <td>2005-01-29</td>\n",
       "      <td>2005</td>\n",
       "      <td>janvier</td>\n",
       "      <td>samedi</td>\n",
       "      <td>18:30</td>\n",
       "      <td>76</td>\n",
       "      <td>76196</td>\n",
       "      <td>0.0</td>\n",
       "      <td>0.0</td>\n",
       "      <td>...</td>\n",
       "      <td>1</td>\n",
       "      <td>9</td>\n",
       "      <td>0.0</td>\n",
       "      <td>2.0</td>\n",
       "      <td>4.0</td>\n",
       "      <td>2.0</td>\n",
       "      <td>200500000170A01</td>\n",
       "      <td>10</td>\n",
       "      <td>2</td>\n",
       "      <td>1.0</td>\n",
       "    </tr>\n",
       "  </tbody>\n",
       "</table>\n",
       "<p>5 rows × 39 columns</p>\n",
       "</div>"
      ],
      "text/plain": [
       "        Num_Acc        date    an     mois      jour   hrmn dep    com  \\\n",
       "0  200500000030  2005-01-13  2005  janvier     jeudi  19:45  62  62331   \n",
       "1  200500000034  2005-01-19  2005  janvier  mercredi  10:45  62  62022   \n",
       "2  200500000078  2005-01-26  2005  janvier  mercredi  13:15  02  02173   \n",
       "3  200500000093  2005-01-03  2005  janvier     lundi  13:30  02  02810   \n",
       "4  200500000170  2005-01-29  2005  janvier    samedi  18:30  76  76196   \n",
       "\n",
       "      lat   long  ...  secuexist  equipement  obs  obsm  choc  manv  \\\n",
       "0    50.3   2.84  ...          0           0  0.0   2.0   8.0  11.0   \n",
       "1     0.0    0.0  ...          0           0  0.0   2.0   1.0   1.0   \n",
       "2     0.0    0.0  ...          1           2  0.0   2.0   1.0   1.0   \n",
       "3  49.255  3.094  ...          0           0  0.0   2.0   3.0  21.0   \n",
       "4     0.0    0.0  ...          1           9  0.0   2.0   4.0   2.0   \n",
       "\n",
       "        vehiculeid  typevehicules  manoeuvehicules  numVehicules  \n",
       "0  200500000030B02             18               17           1.0  \n",
       "1  200500000034B02             10               15           1.0  \n",
       "2  200500000078B02              7               15           1.0  \n",
       "3  200500000093B02              7               21           1.0  \n",
       "4  200500000170A01             10                2           1.0  \n",
       "\n",
       "[5 rows x 39 columns]"
      ]
     },
     "execution_count": 5,
     "metadata": {},
     "output_type": "execute_result"
    }
   ],
   "source": [
    "data_accident.head(\n",
    ")"
   ]
  },
  {
   "cell_type": "markdown",
   "metadata": {},
   "source": [
    "Génération du data_piste"
   ]
  },
  {
   "cell_type": "code",
   "execution_count": 9,
   "metadata": {},
   "outputs": [],
   "source": [
    "data_piste = gpd.read_file(\"../raw_data/amenagement cyclable/france-20231201.geojson\")\n"
   ]
  },
  {
   "cell_type": "code",
   "execution_count": 10,
   "metadata": {},
   "outputs": [
    {
     "data": {
      "text/html": [
       "<div>\n",
       "<style scoped>\n",
       "    .dataframe tbody tr th:only-of-type {\n",
       "        vertical-align: middle;\n",
       "    }\n",
       "\n",
       "    .dataframe tbody tr th {\n",
       "        vertical-align: top;\n",
       "    }\n",
       "\n",
       "    .dataframe thead th {\n",
       "        text-align: right;\n",
       "    }\n",
       "</style>\n",
       "<table border=\"1\" class=\"dataframe\">\n",
       "  <thead>\n",
       "    <tr style=\"text-align: right;\">\n",
       "      <th></th>\n",
       "      <th>id_local</th>\n",
       "      <th>id_osm</th>\n",
       "      <th>num_iti</th>\n",
       "      <th>code_com_d</th>\n",
       "      <th>ame_d</th>\n",
       "      <th>regime_d</th>\n",
       "      <th>sens_d</th>\n",
       "      <th>largeur_d</th>\n",
       "      <th>local_d</th>\n",
       "      <th>statut_d</th>\n",
       "      <th>...</th>\n",
       "      <th>revet_g</th>\n",
       "      <th>access_ame</th>\n",
       "      <th>date_maj</th>\n",
       "      <th>trafic_vit</th>\n",
       "      <th>lumiere</th>\n",
       "      <th>d_service</th>\n",
       "      <th>source</th>\n",
       "      <th>project_c</th>\n",
       "      <th>ref_geo</th>\n",
       "      <th>geometry</th>\n",
       "    </tr>\n",
       "  </thead>\n",
       "  <tbody>\n",
       "    <tr>\n",
       "      <th>0</th>\n",
       "      <td>geovelo_191896047_65011</td>\n",
       "      <td>191896047</td>\n",
       "      <td>None</td>\n",
       "      <td>65011</td>\n",
       "      <td>VOIE VERTE</td>\n",
       "      <td>AUTRE</td>\n",
       "      <td>UNIDIRECTIONNEL</td>\n",
       "      <td>NaN</td>\n",
       "      <td>None</td>\n",
       "      <td>EN SERVICE</td>\n",
       "      <td>...</td>\n",
       "      <td>None</td>\n",
       "      <td>None</td>\n",
       "      <td>2012-11-21</td>\n",
       "      <td>5.0</td>\n",
       "      <td>None</td>\n",
       "      <td>None</td>\n",
       "      <td>Les contributeurs OpenStreetmap</td>\n",
       "      <td>4326</td>\n",
       "      <td>OpenStreetmap</td>\n",
       "      <td>LINESTRING (0.00608 43.08350, 0.00612 43.08351)</td>\n",
       "    </tr>\n",
       "    <tr>\n",
       "      <th>1</th>\n",
       "      <td>geovelo_171145595_65089</td>\n",
       "      <td>171145595</td>\n",
       "      <td>None</td>\n",
       "      <td>65424</td>\n",
       "      <td>AUTRE</td>\n",
       "      <td>AUTRE</td>\n",
       "      <td>UNIDIRECTIONNEL</td>\n",
       "      <td>NaN</td>\n",
       "      <td>None</td>\n",
       "      <td>EN SERVICE</td>\n",
       "      <td>...</td>\n",
       "      <td>None</td>\n",
       "      <td>None</td>\n",
       "      <td>2013-01-21</td>\n",
       "      <td>5.0</td>\n",
       "      <td>None</td>\n",
       "      <td>None</td>\n",
       "      <td>Les contributeurs OpenStreetmap</td>\n",
       "      <td>4326</td>\n",
       "      <td>OpenStreetmap</td>\n",
       "      <td>LINESTRING (0.04594 42.88898, 0.04590 42.88903...</td>\n",
       "    </tr>\n",
       "    <tr>\n",
       "      <th>2</th>\n",
       "      <td>geovelo_171145595_65089</td>\n",
       "      <td>171145595</td>\n",
       "      <td>None</td>\n",
       "      <td>65089</td>\n",
       "      <td>AUTRE</td>\n",
       "      <td>AUTRE</td>\n",
       "      <td>UNIDIRECTIONNEL</td>\n",
       "      <td>NaN</td>\n",
       "      <td>None</td>\n",
       "      <td>EN SERVICE</td>\n",
       "      <td>...</td>\n",
       "      <td>None</td>\n",
       "      <td>None</td>\n",
       "      <td>2013-01-21</td>\n",
       "      <td>5.0</td>\n",
       "      <td>None</td>\n",
       "      <td>None</td>\n",
       "      <td>Les contributeurs OpenStreetmap</td>\n",
       "      <td>4326</td>\n",
       "      <td>OpenStreetmap</td>\n",
       "      <td>LINESTRING (0.04609 42.88935, 0.04612 42.88941...</td>\n",
       "    </tr>\n",
       "    <tr>\n",
       "      <th>3</th>\n",
       "      <td>geovelo_171145595_65089</td>\n",
       "      <td>171145595</td>\n",
       "      <td>None</td>\n",
       "      <td>65424</td>\n",
       "      <td>AUTRE</td>\n",
       "      <td>AUTRE</td>\n",
       "      <td>UNIDIRECTIONNEL</td>\n",
       "      <td>NaN</td>\n",
       "      <td>None</td>\n",
       "      <td>EN SERVICE</td>\n",
       "      <td>...</td>\n",
       "      <td>None</td>\n",
       "      <td>None</td>\n",
       "      <td>2013-01-21</td>\n",
       "      <td>5.0</td>\n",
       "      <td>None</td>\n",
       "      <td>None</td>\n",
       "      <td>Les contributeurs OpenStreetmap</td>\n",
       "      <td>4326</td>\n",
       "      <td>OpenStreetmap</td>\n",
       "      <td>LINESTRING (0.04623 42.88971, 0.04624 42.88976...</td>\n",
       "    </tr>\n",
       "    <tr>\n",
       "      <th>4</th>\n",
       "      <td>geovelo_145218161_86116</td>\n",
       "      <td>145218161</td>\n",
       "      <td>None</td>\n",
       "      <td>86116</td>\n",
       "      <td>AUCUN</td>\n",
       "      <td>ZONE DE RENCONTRE</td>\n",
       "      <td>UNIDIRECTIONNEL</td>\n",
       "      <td>NaN</td>\n",
       "      <td>None</td>\n",
       "      <td>EN SERVICE</td>\n",
       "      <td>...</td>\n",
       "      <td>None</td>\n",
       "      <td>None</td>\n",
       "      <td>2022-02-07</td>\n",
       "      <td>20.0</td>\n",
       "      <td>None</td>\n",
       "      <td>None</td>\n",
       "      <td>Les contributeurs OpenStreetmap</td>\n",
       "      <td>4326</td>\n",
       "      <td>OpenStreetmap</td>\n",
       "      <td>LINESTRING (0.06853 46.46346, 0.06858 46.46349...</td>\n",
       "    </tr>\n",
       "  </tbody>\n",
       "</table>\n",
       "<p>5 rows × 28 columns</p>\n",
       "</div>"
      ],
      "text/plain": [
       "                  id_local     id_osm num_iti code_com_d       ame_d  \\\n",
       "0  geovelo_191896047_65011  191896047    None      65011  VOIE VERTE   \n",
       "1  geovelo_171145595_65089  171145595    None      65424       AUTRE   \n",
       "2  geovelo_171145595_65089  171145595    None      65089       AUTRE   \n",
       "3  geovelo_171145595_65089  171145595    None      65424       AUTRE   \n",
       "4  geovelo_145218161_86116  145218161    None      86116       AUCUN   \n",
       "\n",
       "            regime_d           sens_d  largeur_d local_d    statut_d  ...  \\\n",
       "0              AUTRE  UNIDIRECTIONNEL        NaN    None  EN SERVICE  ...   \n",
       "1              AUTRE  UNIDIRECTIONNEL        NaN    None  EN SERVICE  ...   \n",
       "2              AUTRE  UNIDIRECTIONNEL        NaN    None  EN SERVICE  ...   \n",
       "3              AUTRE  UNIDIRECTIONNEL        NaN    None  EN SERVICE  ...   \n",
       "4  ZONE DE RENCONTRE  UNIDIRECTIONNEL        NaN    None  EN SERVICE  ...   \n",
       "\n",
       "  revet_g access_ame    date_maj trafic_vit lumiere  d_service  \\\n",
       "0    None       None  2012-11-21        5.0    None       None   \n",
       "1    None       None  2013-01-21        5.0    None       None   \n",
       "2    None       None  2013-01-21        5.0    None       None   \n",
       "3    None       None  2013-01-21        5.0    None       None   \n",
       "4    None       None  2022-02-07       20.0    None       None   \n",
       "\n",
       "                            source project_c        ref_geo  \\\n",
       "0  Les contributeurs OpenStreetmap      4326  OpenStreetmap   \n",
       "1  Les contributeurs OpenStreetmap      4326  OpenStreetmap   \n",
       "2  Les contributeurs OpenStreetmap      4326  OpenStreetmap   \n",
       "3  Les contributeurs OpenStreetmap      4326  OpenStreetmap   \n",
       "4  Les contributeurs OpenStreetmap      4326  OpenStreetmap   \n",
       "\n",
       "                                            geometry  \n",
       "0    LINESTRING (0.00608 43.08350, 0.00612 43.08351)  \n",
       "1  LINESTRING (0.04594 42.88898, 0.04590 42.88903...  \n",
       "2  LINESTRING (0.04609 42.88935, 0.04612 42.88941...  \n",
       "3  LINESTRING (0.04623 42.88971, 0.04624 42.88976...  \n",
       "4  LINESTRING (0.06853 46.46346, 0.06858 46.46349...  \n",
       "\n",
       "[5 rows x 28 columns]"
      ]
     },
     "execution_count": 10,
     "metadata": {},
     "output_type": "execute_result"
    }
   ],
   "source": [
    "data_piste.head()"
   ]
  },
  {
   "cell_type": "markdown",
   "metadata": {},
   "source": [
    "Aggrégation des données pour 2022"
   ]
  },
  {
   "cell_type": "code",
   "execution_count": 23,
   "metadata": {},
   "outputs": [
    {
     "data": {
      "text/plain": [
       "array(['Num_Acc', 'date', 'an', 'mois', 'jour', 'hrmn', 'dep', 'com',\n",
       "       'lat', 'long', 'agg', 'int', 'col', 'lum', 'atm', 'catr', 'circ',\n",
       "       'nbv', 'prof', 'plan', 'lartpc', 'larrout', 'surf', 'infra',\n",
       "       'situ', 'grav', 'sexe', 'age', 'trajet', 'secuexist', 'equipement',\n",
       "       'obs', 'obsm', 'choc', 'manv', 'vehiculeid', 'typevehicules',\n",
       "       'manoeuvehicules', 'numVehicules'], dtype=object)"
      ]
     },
     "execution_count": 23,
     "metadata": {},
     "output_type": "execute_result"
    }
   ],
   "source": [
    "data_accident.columns.values"
   ]
  },
  {
   "cell_type": "code",
   "execution_count": 18,
   "metadata": {},
   "outputs": [
    {
     "name": "stderr",
     "output_type": "stream",
     "text": [
      "/var/folders/jw/qw353j7x7h970k1t74h_j5nc0000gn/T/ipykernel_11495/1146404200.py:7: DtypeWarning: Columns (6) have mixed types. Specify dtype option on import or set low_memory=False.\n",
      "  lieux_22 = pd.read_csv(\"../raw_data/2022/lieux-2022.csv\", sep=\";\")\n"
     ]
    }
   ],
   "source": [
    "#Récupération des csv qui nous intéressent\n",
    "\n",
    "carac_22 = pd.read_csv(\"../raw_data/2022/carcteristiques-2022.csv\", sep=\";\")\n",
    "vehicules_22 = pd.read_csv(\"../raw_data/2022/vehicules-2022.csv\", sep=\";\")\n",
    "lieux_22 = pd.read_csv(\"../raw_data/2022/lieux-2022.csv\", sep=\";\")\n",
    "usagers_22 = pd.read_csv(\"../raw_data/2022/usagers-2022.csv\", sep=\";\")"
   ]
  },
  {
   "cell_type": "code",
   "execution_count": 32,
   "metadata": {},
   "outputs": [],
   "source": [
    "carac_22_agg = carac_22.drop('adr', axis=1, errors='ignore')\n"
   ]
  },
  {
   "cell_type": "code",
   "execution_count": 25,
   "metadata": {},
   "outputs": [
    {
     "data": {
      "text/plain": [
       "array(['Num_Acc', 'id_vehicule', 'num_veh', 'senc', 'catv', 'obs', 'obsm',\n",
       "       'choc', 'manv', 'motor', 'occutc'], dtype=object)"
      ]
     },
     "execution_count": 25,
     "metadata": {},
     "output_type": "execute_result"
    }
   ],
   "source": [
    "vehicules_22.columns.values\n",
    "vehicules_22_agg = vehicules_22.drop()"
   ]
  },
  {
   "cell_type": "code",
   "execution_count": 26,
   "metadata": {},
   "outputs": [
    {
     "data": {
      "text/plain": [
       "array(['Num_Acc', 'catr', 'voie', 'v1', 'v2', 'circ', 'nbv', 'vosp',\n",
       "       'prof', 'pr', 'pr1', 'plan', 'lartpc', 'larrout', 'surf', 'infra',\n",
       "       'situ', 'vma'], dtype=object)"
      ]
     },
     "execution_count": 26,
     "metadata": {},
     "output_type": "execute_result"
    }
   ],
   "source": [
    "lieux_22.columns.values"
   ]
  },
  {
   "cell_type": "code",
   "execution_count": 27,
   "metadata": {},
   "outputs": [
    {
     "data": {
      "text/plain": [
       "array(['Num_Acc', 'id_usager', 'id_vehicule', 'num_veh', 'place', 'catu',\n",
       "       'grav', 'sexe', 'an_nais', 'trajet', 'secu1', 'secu2', 'secu3',\n",
       "       'locp', 'actp', 'etatp'], dtype=object)"
      ]
     },
     "execution_count": 27,
     "metadata": {},
     "output_type": "execute_result"
    }
   ],
   "source": [
    "usagers_22.columns.values"
   ]
  },
  {
   "cell_type": "code",
   "execution_count": null,
   "metadata": {},
   "outputs": [],
   "source": []
  }
 ],
 "metadata": {
  "kernelspec": {
   "display_name": "lewagon",
   "language": "python",
   "name": "python3"
  },
  "language_info": {
   "codemirror_mode": {
    "name": "ipython",
    "version": 3
   },
   "file_extension": ".py",
   "mimetype": "text/x-python",
   "name": "python",
   "nbconvert_exporter": "python",
   "pygments_lexer": "ipython3",
   "version": "3.10.6"
  }
 },
 "nbformat": 4,
 "nbformat_minor": 2
}
